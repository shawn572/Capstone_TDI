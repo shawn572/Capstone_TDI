{
 "cells": [
  {
   "cell_type": "code",
   "execution_count": 46,
   "metadata": {},
   "outputs": [],
   "source": [
    "from sodapy import Socrata\n",
    "from pandas import *\n",
    "import numpy as np"
   ]
  },
  {
   "cell_type": "code",
   "execution_count": 47,
   "metadata": {},
   "outputs": [],
   "source": [
    "mytoken = \"mlLXY32tr9taoGa3UB9P12kdj\"\n",
    "client = Socrata(\"data.cms.gov\", mytoken, username=\"lixiangan05572@gmail.com\", password=\"Lxa_05572\")\n",
    "r = client.get(\"tcsp-6e99\", limit=20000000)\n",
    "data = DataFrame(r)"
   ]
  },
  {
   "cell_type": "code",
   "execution_count": 48,
   "metadata": {},
   "outputs": [],
   "source": [
    "state = 'NY'"
   ]
  },
  {
   "cell_type": "code",
   "execution_count": 283,
   "metadata": {
    "scrolled": false
   },
   "outputs": [
    {
     "name": "stdout",
     "output_type": "stream",
     "text": [
      "The top 10 most costly diagnosis and their average cost per discharge for inpatients in NY :\n",
      "\" 001 - HEART TRANSPLANT OR IMPLANT OF HEART ASSIST SYSTEM W MCC \" Average cost per discharge: $ 314626.4384607692\n",
      "\" 003 - ECMO OR TRACH W MV >96 HRS OR PDX EXC FACE, MOUTH & NECK W MAJ O.R. \" Average cost per discharge: $ 196512.6461335984\n",
      "\" 007 - LUNG TRANSPLANT \" Average cost per discharge: $ 163358.5833\n",
      "\" 215 - OTHER HEART ASSIST SYSTEM IMPLANT \" Average cost per discharge: $ 157404.19356774195\n",
      "\" 014 - ALLOGENEIC BONE MARROW TRANSPLANT \" Average cost per discharge: $ 146179.6667\n",
      "\" 005 - LIVER TRANSPLANT W MCC OR INTESTINAL TRANSPLANT \" Average cost per discharge: $ 143004.21054210528\n",
      "\" 004 - TRACH W MV >96 HRS OR PDX EXC FACE, MOUTH & NECK W/O MAJ O.R. \" Average cost per discharge: $ 124058.30397240695\n",
      "\" 456 - SPINAL FUS EXC CERV W SPINAL CURV/MALIG/INFEC OR EXT FUS W MCC \" Average cost per discharge: $ 120248.33332577776\n",
      "\" 216 - CARDIAC VALVE & OTH MAJ CARDIOTHORACIC PROC W CARD CATH W MCC \" Average cost per discharge: $ 95966.67377465573\n",
      "\" 016 - AUTOLOGOUS BONE MARROW TRANSPLANT W CC/MCC \" Average cost per discharge: $ 85656.72164793813\n"
     ]
    }
   ],
   "source": [
    "data_state = data[data['provider_state']==state]\n",
    "data_state_drgdef = data_state.groupby('drg_definition')\n",
    "d_ave_cost = dict()\n",
    "d_case = dict()\n",
    "for name, group in data_state_drgdef:\n",
    "    cost = [float(cost_str) for cost_str in data_state_drgdef.get_group(name)['average_total_payments'].values[:]]\n",
    "    case = [float(case_str) for case_str in data_state_drgdef.get_group(name)['total_discharges'].values[:]]\n",
    "    cost = np.asarray(cost)\n",
    "    case = np.asarray(case)\n",
    "    d_ave_cost[name] = np.dot(cost,case)/sum(case)\n",
    "    d_case[name] = sum(case)\n",
    "\n",
    "print('The top 10 most costly diagnosis and their average cost per discharge for inpatients in', state,':')\n",
    "for k,v in sorted(d_ave_cost.items(),key=lambda p:p[1], reverse=True)[:10]:\n",
    "    print('\"',k,'\"','Average cost per discharge: $',v)"
   ]
  },
  {
   "cell_type": "code",
   "execution_count": 287,
   "metadata": {},
   "outputs": [
    {
     "name": "stdout",
     "output_type": "stream",
     "text": [
      "The top 10 most common diagnosis for inpatients in NY :\n",
      "\" 871 - SEPTICEMIA OR SEVERE SEPSIS W/O MV >96 HOURS W MCC \" Number of cases: 34373\n",
      "\" 470 - MAJOR JOINT REPLACEMENT OR REATTACHMENT OF LOWER EXTREMITY W/O MCC \" Number of cases: 23714\n",
      "\" 291 - HEART FAILURE & SHOCK W MCC \" Number of cases: 18725\n",
      "\" 190 - CHRONIC OBSTRUCTIVE PULMONARY DISEASE W MCC \" Number of cases: 10336\n",
      "\" 392 - ESOPHAGITIS, GASTROENT & MISC DIGEST DISORDERS W/O MCC \" Number of cases: 9675\n",
      "\" 872 - SEPTICEMIA OR SEVERE SEPSIS W/O MV >96 HOURS W/O MCC \" Number of cases: 9524\n",
      "\" 690 - KIDNEY & URINARY TRACT INFECTIONS W/O MCC \" Number of cases: 8637\n",
      "\" 378 - G.I. HEMORRHAGE W CC \" Number of cases: 7339\n",
      "\" 603 - CELLULITIS W/O MCC \" Number of cases: 7213\n",
      "\" 312 - SYNCOPE & COLLAPSE \" Number of cases: 6614\n"
     ]
    }
   ],
   "source": [
    "print('The top 10 most common diagnosis for inpatients in',state,':')\n",
    "for k2,v2 in sorted(d_case.items(),key=lambda p:p[1], reverse=True)[:10]:\n",
    "    print('\"',k2,'\"','Number of cases:',int(v2))"
   ]
  },
  {
   "cell_type": "code",
   "execution_count": null,
   "metadata": {},
   "outputs": [],
   "source": []
  }
 ],
 "metadata": {
  "kernelspec": {
   "display_name": "Python 3",
   "language": "python",
   "name": "python3"
  },
  "language_info": {
   "codemirror_mode": {
    "name": "ipython",
    "version": 3
   },
   "file_extension": ".py",
   "mimetype": "text/x-python",
   "name": "python",
   "nbconvert_exporter": "python",
   "pygments_lexer": "ipython3",
   "version": "3.7.5"
  }
 },
 "nbformat": 4,
 "nbformat_minor": 2
}
